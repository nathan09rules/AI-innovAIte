{
  "cells": [
    {
      "cell_type": "code",
      "execution_count": 8,
      "metadata": {
        "id": "8KFKn0FLVziT",
        "trusted": true
      },
      "outputs": [],
      "source": [
        "import pandas as pd\n",
        "\n",
        "data = pd.read_csv(\"mental_health.csv\")\n",
        "texts = data[\"text\"].astype(str).tolist()\n",
        "labels = data[\"label\"].values"
      ]
    },
    {
      "cell_type": "code",
      "execution_count": null,
      "metadata": {
        "colab": {
          "base_uri": "https://localhost:8080/"
        },
        "id": "ieD0Y5JwZC5C",
        "outputId": "65cf5990-c5f6-4c8d-ebb5-d1cad2bf370f"
      },
      "outputs": [
        {
          "name": "stdout",
          "output_type": "stream",
          "text": [
            "[[2201  912 1714 ...    0    0    0]\n",
            " [  53  165  580 ...    0    0    0]\n",
            " [1624 3185    1 ... 3869  735    1]\n",
            " ...\n",
            " [  16    8  547 ...    0    0    0]\n",
            " [  73  592    3 ...    1    4   58]\n",
            " [  34 3242   86 ...    0    0    0]]\n"
          ]
        }
      ],
      "source": [
        "tokenizer = Tokenizer(num_words=5000, oov_token=\"<OOV>\")\n",
        "tokenizer.fit_on_texts(texts)\n",
        "sequences = tokenizer.texts_to_sequences(texts)\n",
        "padded_sequences = pad_sequences(sequences, padding='post', maxlen=50)\n",
        "\n",
        "print(padded_sequences)"
      ]
    },
    {
      "cell_type": "code",
      "execution_count": null,
      "metadata": {
        "colab": {
          "base_uri": "https://localhost:8080/"
        },
        "collapsed": true,
        "id": "N2sqPYQLXa-F",
        "outputId": "36402c6a-782d-4b15-92db-a397faf1681e"
      },
      "outputs": [
        {
          "name": "stdout",
          "output_type": "stream",
          "text": [
            "Epoch 1/100\n"
          ]
        },
        {
          "name": "stderr",
          "output_type": "stream",
          "text": [
            "/usr/local/lib/python3.11/dist-packages/keras/src/layers/core/embedding.py:90: UserWarning: Argument `input_length` is deprecated. Just remove it.\n",
            "  warnings.warn(\n"
          ]
        },
        {
          "name": "stdout",
          "output_type": "stream",
          "text": [
            "\u001b[1m700/700\u001b[0m \u001b[32m━━━━━━━━━━━━━━━━━━━━\u001b[0m\u001b[37m\u001b[0m \u001b[1m6s\u001b[0m 6ms/step - accuracy: 0.7692 - loss: 0.5210 - val_accuracy: 0.8890 - val_loss: 0.2853\n",
            "Epoch 2/100\n",
            "\u001b[1m700/700\u001b[0m \u001b[32m━━━━━━━━━━━━━━━━━━━━\u001b[0m\u001b[37m\u001b[0m \u001b[1m4s\u001b[0m 4ms/step - accuracy: 0.9031 - loss: 0.2565 - val_accuracy: 0.9064 - val_loss: 0.2352\n",
            "Epoch 3/100\n",
            "\u001b[1m700/700\u001b[0m \u001b[32m━━━━━━━━━━━━━━━━━━━━\u001b[0m\u001b[37m\u001b[0m \u001b[1m3s\u001b[0m 4ms/step - accuracy: 0.9173 - loss: 0.2081 - val_accuracy: 0.9044 - val_loss: 0.2319\n",
            "Epoch 4/100\n",
            "\u001b[1m700/700\u001b[0m \u001b[32m━━━━━━━━━━━━━━━━━━━━\u001b[0m\u001b[37m\u001b[0m \u001b[1m6s\u001b[0m 5ms/step - accuracy: 0.9284 - loss: 0.1906 - val_accuracy: 0.9133 - val_loss: 0.2301\n",
            "Epoch 5/100\n",
            "\u001b[1m700/700\u001b[0m \u001b[32m━━━━━━━━━━━━━━━━━━━━\u001b[0m\u001b[37m\u001b[0m \u001b[1m4s\u001b[0m 5ms/step - accuracy: 0.9384 - loss: 0.1631 - val_accuracy: 0.8999 - val_loss: 0.2479\n",
            "Epoch 6/100\n",
            "\u001b[1m700/700\u001b[0m \u001b[32m━━━━━━━━━━━━━━━━━━━━\u001b[0m\u001b[37m\u001b[0m \u001b[1m4s\u001b[0m 5ms/step - accuracy: 0.9384 - loss: 0.1607 - val_accuracy: 0.9130 - val_loss: 0.2362\n",
            "Epoch 7/100\n",
            "\u001b[1m700/700\u001b[0m \u001b[32m━━━━━━━━━━━━━━━━━━━━\u001b[0m\u001b[37m\u001b[0m \u001b[1m4s\u001b[0m 6ms/step - accuracy: 0.9441 - loss: 0.1521 - val_accuracy: 0.9117 - val_loss: 0.2452\n",
            "Epoch 8/100\n",
            "\u001b[1m700/700\u001b[0m \u001b[32m━━━━━━━━━━━━━━━━━━━━\u001b[0m\u001b[37m\u001b[0m \u001b[1m3s\u001b[0m 5ms/step - accuracy: 0.9473 - loss: 0.1432 - val_accuracy: 0.9042 - val_loss: 0.2694\n",
            "Epoch 9/100\n",
            "\u001b[1m700/700\u001b[0m \u001b[32m━━━━━━━━━━━━━━━━━━━━\u001b[0m\u001b[37m\u001b[0m \u001b[1m3s\u001b[0m 4ms/step - accuracy: 0.9490 - loss: 0.1387 - val_accuracy: 0.9055 - val_loss: 0.2706\n",
            "Epoch 10/100\n",
            "\u001b[1m700/700\u001b[0m \u001b[32m━━━━━━━━━━━━━━━━━━━━\u001b[0m\u001b[37m\u001b[0m \u001b[1m5s\u001b[0m 5ms/step - accuracy: 0.9537 - loss: 0.1313 - val_accuracy: 0.9019 - val_loss: 0.2845\n",
            "Epoch 11/100\n",
            "\u001b[1m700/700\u001b[0m \u001b[32m━━━━━━━━━━━━━━━━━━━━\u001b[0m\u001b[37m\u001b[0m \u001b[1m3s\u001b[0m 5ms/step - accuracy: 0.9499 - loss: 0.1337 - val_accuracy: 0.9033 - val_loss: 0.2720\n",
            "Epoch 12/100\n",
            "\u001b[1m700/700\u001b[0m \u001b[32m━━━━━━━━━━━━━━━━━━━━\u001b[0m\u001b[37m\u001b[0m \u001b[1m3s\u001b[0m 4ms/step - accuracy: 0.9557 - loss: 0.1193 - val_accuracy: 0.9060 - val_loss: 0.2783\n",
            "Epoch 13/100\n",
            "\u001b[1m700/700\u001b[0m \u001b[32m━━━━━━━━━━━━━━━━━━━━\u001b[0m\u001b[37m\u001b[0m \u001b[1m3s\u001b[0m 4ms/step - accuracy: 0.9575 - loss: 0.1194 - val_accuracy: 0.8946 - val_loss: 0.3075\n",
            "Epoch 14/100\n",
            "\u001b[1m700/700\u001b[0m \u001b[32m━━━━━━━━━━━━━━━━━━━━\u001b[0m\u001b[37m\u001b[0m \u001b[1m3s\u001b[0m 4ms/step - accuracy: 0.9592 - loss: 0.1133 - val_accuracy: 0.9023 - val_loss: 0.2986\n",
            "Epoch 15/100\n",
            "\u001b[1m700/700\u001b[0m \u001b[32m━━━━━━━━━━━━━━━━━━━━\u001b[0m\u001b[37m\u001b[0m \u001b[1m5s\u001b[0m 4ms/step - accuracy: 0.9589 - loss: 0.1133 - val_accuracy: 0.9001 - val_loss: 0.3110\n",
            "Epoch 16/100\n",
            "\u001b[1m700/700\u001b[0m \u001b[32m━━━━━━━━━━━━━━━━━━━━\u001b[0m\u001b[37m\u001b[0m \u001b[1m3s\u001b[0m 4ms/step - accuracy: 0.9603 - loss: 0.1104 - val_accuracy: 0.9030 - val_loss: 0.3178\n",
            "Epoch 17/100\n",
            "\u001b[1m700/700\u001b[0m \u001b[32m━━━━━━━━━━━━━━━━━━━━\u001b[0m\u001b[37m\u001b[0m \u001b[1m6s\u001b[0m 5ms/step - accuracy: 0.9588 - loss: 0.1067 - val_accuracy: 0.8992 - val_loss: 0.3254\n",
            "Epoch 18/100\n",
            "\u001b[1m700/700\u001b[0m \u001b[32m━━━━━━━━━━━━━━━━━━━━\u001b[0m\u001b[37m\u001b[0m \u001b[1m3s\u001b[0m 5ms/step - accuracy: 0.9649 - loss: 0.1051 - val_accuracy: 0.8990 - val_loss: 0.3299\n",
            "Epoch 19/100\n",
            "\u001b[1m700/700\u001b[0m \u001b[32m━━━━━━━━━━━━━━━━━━━━\u001b[0m\u001b[37m\u001b[0m \u001b[1m5s\u001b[0m 4ms/step - accuracy: 0.9643 - loss: 0.1019 - val_accuracy: 0.8965 - val_loss: 0.3432\n",
            "Epoch 20/100\n",
            "\u001b[1m700/700\u001b[0m \u001b[32m━━━━━━━━━━━━━━━━━━━━\u001b[0m\u001b[37m\u001b[0m \u001b[1m3s\u001b[0m 4ms/step - accuracy: 0.9639 - loss: 0.1037 - val_accuracy: 0.8965 - val_loss: 0.3391\n",
            "Epoch 21/100\n",
            "\u001b[1m700/700\u001b[0m \u001b[32m━━━━━━━━━━━━━━━━━━━━\u001b[0m\u001b[37m\u001b[0m \u001b[1m3s\u001b[0m 5ms/step - accuracy: 0.9674 - loss: 0.0956 - val_accuracy: 0.8971 - val_loss: 0.3564\n",
            "Epoch 22/100\n",
            "\u001b[1m700/700\u001b[0m \u001b[32m━━━━━━━━━━━━━━━━━━━━\u001b[0m\u001b[37m\u001b[0m \u001b[1m4s\u001b[0m 4ms/step - accuracy: 0.9633 - loss: 0.1027 - val_accuracy: 0.8953 - val_loss: 0.3591\n",
            "Epoch 23/100\n",
            "\u001b[1m700/700\u001b[0m \u001b[32m━━━━━━━━━━━━━━━━━━━━\u001b[0m\u001b[37m\u001b[0m \u001b[1m3s\u001b[0m 4ms/step - accuracy: 0.9644 - loss: 0.1003 - val_accuracy: 0.8962 - val_loss: 0.3655\n",
            "Epoch 24/100\n",
            "\u001b[1m700/700\u001b[0m \u001b[32m━━━━━━━━━━━━━━━━━━━━\u001b[0m\u001b[37m\u001b[0m \u001b[1m5s\u001b[0m 4ms/step - accuracy: 0.9687 - loss: 0.0909 - val_accuracy: 0.8946 - val_loss: 0.3672\n",
            "Epoch 25/100\n",
            "\u001b[1m700/700\u001b[0m \u001b[32m━━━━━━━━━━━━━━━━━━━━\u001b[0m\u001b[37m\u001b[0m \u001b[1m5s\u001b[0m 4ms/step - accuracy: 0.9713 - loss: 0.0868 - val_accuracy: 0.8942 - val_loss: 0.3772\n",
            "Epoch 26/100\n",
            "\u001b[1m700/700\u001b[0m \u001b[32m━━━━━━━━━━━━━━━━━━━━\u001b[0m\u001b[37m\u001b[0m \u001b[1m3s\u001b[0m 4ms/step - accuracy: 0.9656 - loss: 0.0974 - val_accuracy: 0.8921 - val_loss: 0.3985\n",
            "Epoch 27/100\n",
            "\u001b[1m700/700\u001b[0m \u001b[32m━━━━━━━━━━━━━━━━━━━━\u001b[0m\u001b[37m\u001b[0m \u001b[1m5s\u001b[0m 4ms/step - accuracy: 0.9689 - loss: 0.0894 - val_accuracy: 0.8756 - val_loss: 0.4434\n",
            "Epoch 28/100\n",
            "\u001b[1m700/700\u001b[0m \u001b[32m━━━━━━━━━━━━━━━━━━━━\u001b[0m\u001b[37m\u001b[0m \u001b[1m2s\u001b[0m 4ms/step - accuracy: 0.9649 - loss: 0.0968 - val_accuracy: 0.8947 - val_loss: 0.4035\n",
            "Epoch 29/100\n",
            "\u001b[1m700/700\u001b[0m \u001b[32m━━━━━━━━━━━━━━━━━━━━\u001b[0m\u001b[37m\u001b[0m \u001b[1m3s\u001b[0m 4ms/step - accuracy: 0.9679 - loss: 0.0904 - val_accuracy: 0.8894 - val_loss: 0.4320\n",
            "Epoch 30/100\n",
            "\u001b[1m700/700\u001b[0m \u001b[32m━━━━━━━━━━━━━━━━━━━━\u001b[0m\u001b[37m\u001b[0m \u001b[1m5s\u001b[0m 4ms/step - accuracy: 0.9676 - loss: 0.0897 - val_accuracy: 0.8888 - val_loss: 0.4063\n",
            "Epoch 31/100\n",
            "\u001b[1m700/700\u001b[0m \u001b[32m━━━━━━━━━━━━━━━━━━━━\u001b[0m\u001b[37m\u001b[0m \u001b[1m5s\u001b[0m 4ms/step - accuracy: 0.9684 - loss: 0.0883 - val_accuracy: 0.8921 - val_loss: 0.4146\n",
            "Epoch 32/100\n",
            "\u001b[1m700/700\u001b[0m \u001b[32m━━━━━━━━━━━━━━━━━━━━\u001b[0m\u001b[37m\u001b[0m \u001b[1m3s\u001b[0m 4ms/step - accuracy: 0.9708 - loss: 0.0842 - val_accuracy: 0.8819 - val_loss: 0.4697\n",
            "Epoch 33/100\n",
            "\u001b[1m700/700\u001b[0m \u001b[32m━━━━━━━━━━━━━━━━━━━━\u001b[0m\u001b[37m\u001b[0m \u001b[1m5s\u001b[0m 4ms/step - accuracy: 0.9687 - loss: 0.0879 - val_accuracy: 0.8858 - val_loss: 0.4214\n",
            "Epoch 34/100\n",
            "\u001b[1m700/700\u001b[0m \u001b[32m━━━━━━━━━━━━━━━━━━━━\u001b[0m\u001b[37m\u001b[0m \u001b[1m5s\u001b[0m 4ms/step - accuracy: 0.9717 - loss: 0.0778 - val_accuracy: 0.8865 - val_loss: 0.4326\n",
            "Epoch 35/100\n",
            "\u001b[1m700/700\u001b[0m \u001b[32m━━━━━━━━━━━━━━━━━━━━\u001b[0m\u001b[37m\u001b[0m \u001b[1m4s\u001b[0m 5ms/step - accuracy: 0.9689 - loss: 0.0878 - val_accuracy: 0.8872 - val_loss: 0.4398\n",
            "Epoch 36/100\n",
            "\u001b[1m700/700\u001b[0m \u001b[32m━━━━━━━━━━━━━━━━━━━━\u001b[0m\u001b[37m\u001b[0m \u001b[1m4s\u001b[0m 4ms/step - accuracy: 0.9722 - loss: 0.0807 - val_accuracy: 0.8754 - val_loss: 0.4797\n",
            "Epoch 37/100\n",
            "\u001b[1m700/700\u001b[0m \u001b[32m━━━━━━━━━━━━━━━━━━━━\u001b[0m\u001b[37m\u001b[0m \u001b[1m3s\u001b[0m 4ms/step - accuracy: 0.9731 - loss: 0.0761 - val_accuracy: 0.8876 - val_loss: 0.4527\n",
            "Epoch 38/100\n",
            "\u001b[1m700/700\u001b[0m \u001b[32m━━━━━━━━━━━━━━━━━━━━\u001b[0m\u001b[37m\u001b[0m \u001b[1m3s\u001b[0m 4ms/step - accuracy: 0.9734 - loss: 0.0740 - val_accuracy: 0.8838 - val_loss: 0.4749\n",
            "Epoch 39/100\n",
            "\u001b[1m700/700\u001b[0m \u001b[32m━━━━━━━━━━━━━━━━━━━━\u001b[0m\u001b[37m\u001b[0m \u001b[1m5s\u001b[0m 4ms/step - accuracy: 0.9757 - loss: 0.0700 - val_accuracy: 0.8746 - val_loss: 0.4980\n",
            "Epoch 40/100\n",
            "\u001b[1m700/700\u001b[0m \u001b[32m━━━━━━━━━━━━━━━━━━━━\u001b[0m\u001b[37m\u001b[0m \u001b[1m5s\u001b[0m 4ms/step - accuracy: 0.9726 - loss: 0.0761 - val_accuracy: 0.8813 - val_loss: 0.4793\n",
            "Epoch 41/100\n",
            "\u001b[1m700/700\u001b[0m \u001b[32m━━━━━━━━━━━━━━━━━━━━\u001b[0m\u001b[37m\u001b[0m \u001b[1m3s\u001b[0m 5ms/step - accuracy: 0.9728 - loss: 0.0768 - val_accuracy: 0.8833 - val_loss: 0.4801\n",
            "Epoch 42/100\n",
            "\u001b[1m700/700\u001b[0m \u001b[32m━━━━━━━━━━━━━━━━━━━━\u001b[0m\u001b[37m\u001b[0m \u001b[1m5s\u001b[0m 4ms/step - accuracy: 0.9752 - loss: 0.0709 - val_accuracy: 0.8853 - val_loss: 0.4969\n",
            "Epoch 43/100\n",
            "\u001b[1m700/700\u001b[0m \u001b[32m━━━━━━━━━━━━━━━━━━━━\u001b[0m\u001b[37m\u001b[0m \u001b[1m3s\u001b[0m 4ms/step - accuracy: 0.9768 - loss: 0.0684 - val_accuracy: 0.8719 - val_loss: 0.5512\n",
            "Epoch 44/100\n",
            "\u001b[1m700/700\u001b[0m \u001b[32m━━━━━━━━━━━━━━━━━━━━\u001b[0m\u001b[37m\u001b[0m \u001b[1m3s\u001b[0m 4ms/step - accuracy: 0.9739 - loss: 0.0699 - val_accuracy: 0.8813 - val_loss: 0.5506\n",
            "Epoch 45/100\n",
            "\u001b[1m700/700\u001b[0m \u001b[32m━━━━━━━━━━━━━━━━━━━━\u001b[0m\u001b[37m\u001b[0m \u001b[1m4s\u001b[0m 6ms/step - accuracy: 0.9765 - loss: 0.0661 - val_accuracy: 0.8796 - val_loss: 0.5348\n",
            "Epoch 46/100\n",
            "\u001b[1m700/700\u001b[0m \u001b[32m━━━━━━━━━━━━━━━━━━━━\u001b[0m\u001b[37m\u001b[0m \u001b[1m3s\u001b[0m 4ms/step - accuracy: 0.9775 - loss: 0.0644 - val_accuracy: 0.8813 - val_loss: 0.5448\n",
            "Epoch 47/100\n",
            "\u001b[1m700/700\u001b[0m \u001b[32m━━━━━━━━━━━━━━━━━━━━\u001b[0m\u001b[37m\u001b[0m \u001b[1m5s\u001b[0m 4ms/step - accuracy: 0.9779 - loss: 0.0602 - val_accuracy: 0.8742 - val_loss: 0.5816\n",
            "Epoch 48/100\n",
            "\u001b[1m700/700\u001b[0m \u001b[32m━━━━━━━━━━━━━━━━━━━━\u001b[0m\u001b[37m\u001b[0m \u001b[1m6s\u001b[0m 5ms/step - accuracy: 0.9762 - loss: 0.0643 - val_accuracy: 0.8822 - val_loss: 0.5787\n",
            "Epoch 49/100\n",
            "\u001b[1m700/700\u001b[0m \u001b[32m━━━━━━━━━━━━━━━━━━━━\u001b[0m\u001b[37m\u001b[0m \u001b[1m5s\u001b[0m 4ms/step - accuracy: 0.9803 - loss: 0.0576 - val_accuracy: 0.8760 - val_loss: 0.6031\n",
            "Epoch 50/100\n",
            "\u001b[1m700/700\u001b[0m \u001b[32m━━━━━━━━━━━━━━━━━━━━\u001b[0m\u001b[37m\u001b[0m \u001b[1m3s\u001b[0m 4ms/step - accuracy: 0.9784 - loss: 0.0569 - val_accuracy: 0.8728 - val_loss: 0.6459\n",
            "Epoch 51/100\n",
            "\u001b[1m700/700\u001b[0m \u001b[32m━━━━━━━━━━━━━━━━━━━━\u001b[0m\u001b[37m\u001b[0m \u001b[1m5s\u001b[0m 4ms/step - accuracy: 0.9801 - loss: 0.0551 - val_accuracy: 0.8806 - val_loss: 0.6050\n",
            "Epoch 52/100\n",
            "\u001b[1m700/700\u001b[0m \u001b[32m━━━━━━━━━━━━━━━━━━━━\u001b[0m\u001b[37m\u001b[0m \u001b[1m3s\u001b[0m 4ms/step - accuracy: 0.9810 - loss: 0.0541 - val_accuracy: 0.8794 - val_loss: 0.6642\n",
            "Epoch 53/100\n",
            "\u001b[1m700/700\u001b[0m \u001b[32m━━━━━━━━━━━━━━━━━━━━\u001b[0m\u001b[37m\u001b[0m \u001b[1m6s\u001b[0m 5ms/step - accuracy: 0.9837 - loss: 0.0483 - val_accuracy: 0.8803 - val_loss: 0.6624\n",
            "Epoch 54/100\n",
            "\u001b[1m700/700\u001b[0m \u001b[32m━━━━━━━━━━━━━━━━━━━━\u001b[0m\u001b[37m\u001b[0m \u001b[1m5s\u001b[0m 4ms/step - accuracy: 0.9835 - loss: 0.0475 - val_accuracy: 0.8778 - val_loss: 0.6867\n",
            "Epoch 55/100\n",
            "\u001b[1m700/700\u001b[0m \u001b[32m━━━━━━━━━━━━━━━━━━━━\u001b[0m\u001b[37m\u001b[0m \u001b[1m3s\u001b[0m 4ms/step - accuracy: 0.9827 - loss: 0.0493 - val_accuracy: 0.8763 - val_loss: 0.7298\n",
            "Epoch 56/100\n",
            "\u001b[1m700/700\u001b[0m \u001b[32m━━━━━━━━━━━━━━━━━━━━\u001b[0m\u001b[37m\u001b[0m \u001b[1m3s\u001b[0m 4ms/step - accuracy: 0.9843 - loss: 0.0465 - val_accuracy: 0.8792 - val_loss: 0.7414\n",
            "Epoch 57/100\n",
            "\u001b[1m700/700\u001b[0m \u001b[32m━━━━━━━━━━━━━━━━━━━━\u001b[0m\u001b[37m\u001b[0m \u001b[1m4s\u001b[0m 6ms/step - accuracy: 0.9852 - loss: 0.0438 - val_accuracy: 0.8763 - val_loss: 0.7892\n",
            "Epoch 58/100\n",
            "\u001b[1m700/700\u001b[0m \u001b[32m━━━━━━━━━━━━━━━━━━━━\u001b[0m\u001b[37m\u001b[0m \u001b[1m4s\u001b[0m 4ms/step - accuracy: 0.9834 - loss: 0.0454 - val_accuracy: 0.8697 - val_loss: 0.8444\n",
            "Epoch 59/100\n",
            "\u001b[1m700/700\u001b[0m \u001b[32m━━━━━━━━━━━━━━━━━━━━\u001b[0m\u001b[37m\u001b[0m \u001b[1m3s\u001b[0m 4ms/step - accuracy: 0.9836 - loss: 0.0435 - val_accuracy: 0.8676 - val_loss: 0.8643\n",
            "Epoch 60/100\n",
            "\u001b[1m700/700\u001b[0m \u001b[32m━━━━━━━━━━━━━━━━━━━━\u001b[0m\u001b[37m\u001b[0m \u001b[1m3s\u001b[0m 5ms/step - accuracy: 0.9835 - loss: 0.0419 - val_accuracy: 0.8788 - val_loss: 0.8589\n",
            "Epoch 61/100\n",
            "\u001b[1m700/700\u001b[0m \u001b[32m━━━━━━━━━━━━━━━━━━━━\u001b[0m\u001b[37m\u001b[0m \u001b[1m4s\u001b[0m 5ms/step - accuracy: 0.9827 - loss: 0.0456 - val_accuracy: 0.8779 - val_loss: 0.8729\n",
            "Epoch 62/100\n",
            "\u001b[1m700/700\u001b[0m \u001b[32m━━━━━━━━━━━━━━━━━━━━\u001b[0m\u001b[37m\u001b[0m \u001b[1m3s\u001b[0m 4ms/step - accuracy: 0.9869 - loss: 0.0356 - val_accuracy: 0.8726 - val_loss: 0.9152\n",
            "Epoch 63/100\n",
            "\u001b[1m700/700\u001b[0m \u001b[32m━━━━━━━━━━━━━━━━━━━━\u001b[0m\u001b[37m\u001b[0m \u001b[1m5s\u001b[0m 4ms/step - accuracy: 0.9880 - loss: 0.0367 - val_accuracy: 0.8765 - val_loss: 0.9336\n",
            "Epoch 64/100\n",
            "\u001b[1m700/700\u001b[0m \u001b[32m━━━━━━━━━━━━━━━━━━━━\u001b[0m\u001b[37m\u001b[0m \u001b[1m5s\u001b[0m 4ms/step - accuracy: 0.9866 - loss: 0.0373 - val_accuracy: 0.8763 - val_loss: 0.9331\n",
            "Epoch 65/100\n",
            "\u001b[1m700/700\u001b[0m \u001b[32m━━━━━━━━━━━━━━━━━━━━\u001b[0m\u001b[37m\u001b[0m \u001b[1m3s\u001b[0m 4ms/step - accuracy: 0.9854 - loss: 0.0381 - val_accuracy: 0.8763 - val_loss: 0.9733\n",
            "Epoch 66/100\n",
            "\u001b[1m700/700\u001b[0m \u001b[32m━━━━━━━━━━━━━━━━━━━━\u001b[0m\u001b[37m\u001b[0m \u001b[1m3s\u001b[0m 4ms/step - accuracy: 0.9886 - loss: 0.0321 - val_accuracy: 0.8742 - val_loss: 0.9812\n",
            "Epoch 67/100\n",
            "\u001b[1m700/700\u001b[0m \u001b[32m━━━━━━━━━━━━━━━━━━━━\u001b[0m\u001b[37m\u001b[0m \u001b[1m4s\u001b[0m 5ms/step - accuracy: 0.9860 - loss: 0.0354 - val_accuracy: 0.8729 - val_loss: 1.0212\n",
            "Epoch 68/100\n",
            "\u001b[1m700/700\u001b[0m \u001b[32m━━━━━━━━━━━━━━━━━━━━\u001b[0m\u001b[37m\u001b[0m \u001b[1m4s\u001b[0m 4ms/step - accuracy: 0.9878 - loss: 0.0313 - val_accuracy: 0.8779 - val_loss: 1.0373\n",
            "Epoch 69/100\n",
            "\u001b[1m700/700\u001b[0m \u001b[32m━━━━━━━━━━━━━━━━━━━━\u001b[0m\u001b[37m\u001b[0m \u001b[1m3s\u001b[0m 4ms/step - accuracy: 0.9869 - loss: 0.0335 - val_accuracy: 0.8738 - val_loss: 1.0395\n",
            "Epoch 70/100\n",
            "\u001b[1m700/700\u001b[0m \u001b[32m━━━━━━━━━━━━━━━━━━━━\u001b[0m\u001b[37m\u001b[0m \u001b[1m3s\u001b[0m 4ms/step - accuracy: 0.9893 - loss: 0.0324 - val_accuracy: 0.8774 - val_loss: 1.0632\n",
            "Epoch 71/100\n",
            "\u001b[1m700/700\u001b[0m \u001b[32m━━━━━━━━━━━━━━━━━━━━\u001b[0m\u001b[37m\u001b[0m \u001b[1m4s\u001b[0m 5ms/step - accuracy: 0.9880 - loss: 0.0325 - val_accuracy: 0.8735 - val_loss: 1.1219\n",
            "Epoch 72/100\n",
            "\u001b[1m700/700\u001b[0m \u001b[32m━━━━━━━━━━━━━━━━━━━━\u001b[0m\u001b[37m\u001b[0m \u001b[1m5s\u001b[0m 4ms/step - accuracy: 0.9891 - loss: 0.0298 - val_accuracy: 0.8779 - val_loss: 1.0843\n",
            "Epoch 73/100\n",
            "\u001b[1m700/700\u001b[0m \u001b[32m━━━━━━━━━━━━━━━━━━━━\u001b[0m\u001b[37m\u001b[0m \u001b[1m5s\u001b[0m 4ms/step - accuracy: 0.9899 - loss: 0.0283 - val_accuracy: 0.8756 - val_loss: 1.1372\n",
            "Epoch 74/100\n",
            "\u001b[1m700/700\u001b[0m \u001b[32m━━━━━━━━━━━━━━━━━━━━\u001b[0m\u001b[37m\u001b[0m \u001b[1m4s\u001b[0m 5ms/step - accuracy: 0.9915 - loss: 0.0270 - val_accuracy: 0.8776 - val_loss: 1.1463\n",
            "Epoch 75/100\n",
            "\u001b[1m700/700\u001b[0m \u001b[32m━━━━━━━━━━━━━━━━━━━━\u001b[0m\u001b[37m\u001b[0m \u001b[1m5s\u001b[0m 4ms/step - accuracy: 0.9919 - loss: 0.0246 - val_accuracy: 0.8771 - val_loss: 1.1616\n",
            "Epoch 76/100\n",
            "\u001b[1m700/700\u001b[0m \u001b[32m━━━━━━━━━━━━━━━━━━━━\u001b[0m\u001b[37m\u001b[0m \u001b[1m3s\u001b[0m 4ms/step - accuracy: 0.9904 - loss: 0.0272 - val_accuracy: 0.8637 - val_loss: 1.2631\n",
            "Epoch 77/100\n",
            "\u001b[1m700/700\u001b[0m \u001b[32m━━━━━━━━━━━━━━━━━━━━\u001b[0m\u001b[37m\u001b[0m \u001b[1m5s\u001b[0m 4ms/step - accuracy: 0.9911 - loss: 0.0244 - val_accuracy: 0.8662 - val_loss: 1.3000\n",
            "Epoch 78/100\n",
            "\u001b[1m700/700\u001b[0m \u001b[32m━━━━━━━━━━━━━━━━━━━━\u001b[0m\u001b[37m\u001b[0m \u001b[1m3s\u001b[0m 4ms/step - accuracy: 0.9895 - loss: 0.0269 - val_accuracy: 0.8762 - val_loss: 1.2482\n",
            "Epoch 79/100\n",
            "\u001b[1m700/700\u001b[0m \u001b[32m━━━━━━━━━━━━━━━━━━━━\u001b[0m\u001b[37m\u001b[0m \u001b[1m3s\u001b[0m 4ms/step - accuracy: 0.9906 - loss: 0.0243 - val_accuracy: 0.8667 - val_loss: 1.3192\n",
            "Epoch 80/100\n",
            "\u001b[1m700/700\u001b[0m \u001b[32m━━━━━━━━━━━━━━━━━━━━\u001b[0m\u001b[37m\u001b[0m \u001b[1m6s\u001b[0m 5ms/step - accuracy: 0.9889 - loss: 0.0291 - val_accuracy: 0.8751 - val_loss: 1.2829\n",
            "Epoch 81/100\n",
            "\u001b[1m700/700\u001b[0m \u001b[32m━━━━━━━━━━━━━━━━━━━━\u001b[0m\u001b[37m\u001b[0m \u001b[1m3s\u001b[0m 5ms/step - accuracy: 0.9915 - loss: 0.0232 - val_accuracy: 0.8754 - val_loss: 1.2791\n",
            "Epoch 82/100\n",
            "\u001b[1m700/700\u001b[0m \u001b[32m━━━━━━━━━━━━━━━━━━━━\u001b[0m\u001b[37m\u001b[0m \u001b[1m3s\u001b[0m 4ms/step - accuracy: 0.9905 - loss: 0.0259 - val_accuracy: 0.8772 - val_loss: 1.3345\n",
            "Epoch 83/100\n",
            "\u001b[1m700/700\u001b[0m \u001b[32m━━━━━━━━━━━━━━━━━━━━\u001b[0m\u001b[37m\u001b[0m \u001b[1m5s\u001b[0m 5ms/step - accuracy: 0.9906 - loss: 0.0252 - val_accuracy: 0.8746 - val_loss: 1.2832\n",
            "Epoch 84/100\n",
            "\u001b[1m700/700\u001b[0m \u001b[32m━━━━━━━━━━━━━━━━━━━━\u001b[0m\u001b[37m\u001b[0m \u001b[1m4s\u001b[0m 4ms/step - accuracy: 0.9917 - loss: 0.0225 - val_accuracy: 0.8738 - val_loss: 1.3897\n",
            "Epoch 85/100\n",
            "\u001b[1m700/700\u001b[0m \u001b[32m━━━━━━━━━━━━━━━━━━━━\u001b[0m\u001b[37m\u001b[0m \u001b[1m6s\u001b[0m 5ms/step - accuracy: 0.9921 - loss: 0.0208 - val_accuracy: 0.8753 - val_loss: 1.3710\n",
            "Epoch 86/100\n",
            "\u001b[1m700/700\u001b[0m \u001b[32m━━━━━━━━━━━━━━━━━━━━\u001b[0m\u001b[37m\u001b[0m \u001b[1m4s\u001b[0m 5ms/step - accuracy: 0.9881 - loss: 0.0297 - val_accuracy: 0.8756 - val_loss: 1.3457\n",
            "Epoch 87/100\n",
            "\u001b[1m700/700\u001b[0m \u001b[32m━━━━━━━━━━━━━━━━━━━━\u001b[0m\u001b[37m\u001b[0m \u001b[1m5s\u001b[0m 4ms/step - accuracy: 0.9916 - loss: 0.0213 - val_accuracy: 0.8774 - val_loss: 1.4071\n",
            "Epoch 88/100\n",
            "\u001b[1m700/700\u001b[0m \u001b[32m━━━━━━━━━━━━━━━━━━━━\u001b[0m\u001b[37m\u001b[0m \u001b[1m3s\u001b[0m 4ms/step - accuracy: 0.9906 - loss: 0.0231 - val_accuracy: 0.8742 - val_loss: 1.4211\n",
            "Epoch 89/100\n",
            "\u001b[1m700/700\u001b[0m \u001b[32m━━━━━━━━━━━━━━━━━━━━\u001b[0m\u001b[37m\u001b[0m \u001b[1m4s\u001b[0m 6ms/step - accuracy: 0.9927 - loss: 0.0191 - val_accuracy: 0.8744 - val_loss: 1.4518\n",
            "Epoch 90/100\n",
            "\u001b[1m700/700\u001b[0m \u001b[32m━━━━━━━━━━━━━━━━━━━━\u001b[0m\u001b[37m\u001b[0m \u001b[1m3s\u001b[0m 4ms/step - accuracy: 0.9934 - loss: 0.0172 - val_accuracy: 0.8754 - val_loss: 1.4183\n",
            "Epoch 91/100\n",
            "\u001b[1m700/700\u001b[0m \u001b[32m━━━━━━━━━━━━━━━━━━━━\u001b[0m\u001b[37m\u001b[0m \u001b[1m3s\u001b[0m 4ms/step - accuracy: 0.9928 - loss: 0.0181 - val_accuracy: 0.8713 - val_loss: 1.4726\n",
            "Epoch 92/100\n",
            "\u001b[1m700/700\u001b[0m \u001b[32m━━━━━━━━━━━━━━━━━━━━\u001b[0m\u001b[37m\u001b[0m \u001b[1m6s\u001b[0m 5ms/step - accuracy: 0.9944 - loss: 0.0164 - val_accuracy: 0.8749 - val_loss: 1.5230\n",
            "Epoch 93/100\n",
            "\u001b[1m700/700\u001b[0m \u001b[32m━━━━━━━━━━━━━━━━━━━━\u001b[0m\u001b[37m\u001b[0m \u001b[1m5s\u001b[0m 4ms/step - accuracy: 0.9931 - loss: 0.0173 - val_accuracy: 0.8756 - val_loss: 1.4650\n",
            "Epoch 94/100\n",
            "\u001b[1m700/700\u001b[0m \u001b[32m━━━━━━━━━━━━━━━━━━━━\u001b[0m\u001b[37m\u001b[0m \u001b[1m5s\u001b[0m 5ms/step - accuracy: 0.9919 - loss: 0.0204 - val_accuracy: 0.8760 - val_loss: 1.5042\n",
            "Epoch 95/100\n",
            "\u001b[1m700/700\u001b[0m \u001b[32m━━━━━━━━━━━━━━━━━━━━\u001b[0m\u001b[37m\u001b[0m \u001b[1m4s\u001b[0m 6ms/step - accuracy: 0.9943 - loss: 0.0166 - val_accuracy: 0.8751 - val_loss: 1.5455\n",
            "Epoch 96/100\n",
            "\u001b[1m700/700\u001b[0m \u001b[32m━━━━━━━━━━━━━━━━━━━━\u001b[0m\u001b[37m\u001b[0m \u001b[1m4s\u001b[0m 4ms/step - accuracy: 0.9956 - loss: 0.0146 - val_accuracy: 0.8703 - val_loss: 1.5741\n",
            "Epoch 97/100\n",
            "\u001b[1m700/700\u001b[0m \u001b[32m━━━━━━━━━━━━━━━━━━━━\u001b[0m\u001b[37m\u001b[0m \u001b[1m5s\u001b[0m 4ms/step - accuracy: 0.9952 - loss: 0.0139 - val_accuracy: 0.8721 - val_loss: 1.6472\n",
            "Epoch 98/100\n",
            "\u001b[1m700/700\u001b[0m \u001b[32m━━━━━━━━━━━━━━━━━━━━\u001b[0m\u001b[37m\u001b[0m \u001b[1m4s\u001b[0m 6ms/step - accuracy: 0.9919 - loss: 0.0224 - val_accuracy: 0.8731 - val_loss: 1.5723\n",
            "Epoch 99/100\n",
            "\u001b[1m700/700\u001b[0m \u001b[32m━━━━━━━━━━━━━━━━━━━━\u001b[0m\u001b[37m\u001b[0m \u001b[1m4s\u001b[0m 4ms/step - accuracy: 0.9950 - loss: 0.0143 - val_accuracy: 0.8676 - val_loss: 1.6952\n",
            "Epoch 100/100\n",
            "\u001b[1m700/700\u001b[0m \u001b[32m━━━━━━━━━━━━━━━━━━━━\u001b[0m\u001b[37m\u001b[0m \u001b[1m3s\u001b[0m 4ms/step - accuracy: 0.9948 - loss: 0.0157 - val_accuracy: 0.8778 - val_loss: 1.5557\n"
          ]
        },
        {
          "data": {
            "text/plain": [
              "<keras.src.callbacks.history.History at 0x797f84b03b50>"
            ]
          },
          "execution_count": 17,
          "metadata": {},
          "output_type": "execute_result"
        }
      ],
      "source": [
        "import pandas as pd\n",
        "import numpy as np\n",
        "import tensorflow as tf\n",
        "from tensorflow.keras.preprocessing.text import Tokenizer\n",
        "from tensorflow.keras.preprocessing.sequence import pad_sequences\n",
        "from sklearn.model_selection import train_test_split\n",
        "\n",
        "tokenizer = Tokenizer(num_words=5000, oov_token=\"<OOV>\")\n",
        "tokenizer.fit_on_texts(texts)\n",
        "sequences = tokenizer.texts_to_sequences(texts)\n",
        "padded_sequences = pad_sequences(sequences, padding='post', maxlen=50)\n",
        "\n",
        "X_train, X_test, y_train, y_test = train_test_split(padded_sequences, labels, test_size=0.2, random_state=42)\n",
        "\n",
        "model = tf.keras.Sequential([\n",
        "    tf.keras.layers.Embedding(5000, 16, input_length=50),\n",
        "    tf.keras.layers.GlobalAveragePooling1D(),\n",
        "    tf.keras.layers.Dense(16, activation='relu'),\n",
        "    tf.keras.layers.Dense(1, activation='sigmoid')\n",
        "])\n",
        "\n",
        "model.compile(loss='binary_crossentropy', optimizer='adam', metrics=['accuracy'])\n",
        "\n",
        "model.fit(X_train, y_train, epochs=100, validation_data=(X_test, y_test), verbose=1)"
      ]
    },
    {
      "cell_type": "code",
      "execution_count": null,
      "metadata": {
        "id": "1557GtIxXpxv"
      },
      "outputs": [],
      "source": []
    },
    {
      "cell_type": "code",
      "execution_count": null,
      "metadata": {
        "colab": {
          "base_uri": "https://localhost:8080/"
        },
        "id": "H8rBdHxfXmVJ",
        "outputId": "95302cef-a444-4d37-cfcb-8be734bd3a7e"
      },
      "outputs": [
        {
          "name": "stdout",
          "output_type": "stream",
          "text": [
            "Enter a sentence: hello ill kill you\n",
            "\u001b[1m1/1\u001b[0m \u001b[32m━━━━━━━━━━━━━━━━━━━━\u001b[0m\u001b[37m\u001b[0m \u001b[1m0s\u001b[0m 114ms/step\n",
            "Predicted Label: 1\n"
          ]
        },
        {
          "name": "stderr",
          "output_type": "stream",
          "text": [
            "<ipython-input-18-a156a6413dda>:5: DeprecationWarning: Conversion of an array with ndim > 0 to a scalar is deprecated, and will error in future. Ensure you extract a single element from your array before performing this operation. (Deprecated NumPy 1.25.)\n",
            "  return int(prediction[0] > 0.5)\n"
          ]
        }
      ],
      "source": [
        "def predict_text(text):\n",
        "    seq = tokenizer.texts_to_sequences([text])\n",
        "    padded = pad_sequences(seq, padding='post', maxlen=50)\n",
        "    prediction = model.predict(padded)\n",
        "    return int(prediction[0] > 0.5)\n",
        "\n",
        "user_input = input(\"Enter a sentence: \")\n",
        "prediction = predict_text(user_input)\n",
        "print(\"Predicted Label:\", prediction)"
      ]
    },
    {
      "cell_type": "code",
      "execution_count": 20,
      "metadata": {
        "id": "9jHkYWKkdqnn"
      },
      "outputs": [],
      "source": [
        "model.save(\"Mental_Health.keras\")\n"
      ]
    },
    {
      "cell_type": "code",
      "execution_count": 21,
      "metadata": {
        "colab": {
          "base_uri": "https://localhost:8080/",
          "height": 17
        },
        "id": "XZ697qtbdyqo",
        "outputId": "135731e7-c14d-45ac-c7e1-f3530961d4ba"
      },
      "outputs": [
        {
          "data": {
            "application/javascript": "\n    async function download(id, filename, size) {\n      if (!google.colab.kernel.accessAllowed) {\n        return;\n      }\n      const div = document.createElement('div');\n      const label = document.createElement('label');\n      label.textContent = `Downloading \"${filename}\": `;\n      div.appendChild(label);\n      const progress = document.createElement('progress');\n      progress.max = size;\n      div.appendChild(progress);\n      document.body.appendChild(div);\n\n      const buffers = [];\n      let downloaded = 0;\n\n      const channel = await google.colab.kernel.comms.open(id);\n      // Send a message to notify the kernel that we're ready.\n      channel.send({})\n\n      for await (const message of channel.messages) {\n        // Send a message to notify the kernel that we're ready.\n        channel.send({})\n        if (message.buffers) {\n          for (const buffer of message.buffers) {\n            buffers.push(buffer);\n            downloaded += buffer.byteLength;\n            progress.value = downloaded;\n          }\n        }\n      }\n      const blob = new Blob(buffers, {type: 'application/binary'});\n      const a = document.createElement('a');\n      a.href = window.URL.createObjectURL(blob);\n      a.download = filename;\n      div.appendChild(a);\n      a.click();\n      div.remove();\n    }\n  ",
            "text/plain": [
              "<IPython.core.display.Javascript object>"
            ]
          },
          "metadata": {},
          "output_type": "display_data"
        },
        {
          "data": {
            "application/javascript": "download(\"download_25bb926b-8f75-4e21-bebd-2a4c4d992589\", \"Mental_Health.keras\", 990181)",
            "text/plain": [
              "<IPython.core.display.Javascript object>"
            ]
          },
          "metadata": {},
          "output_type": "display_data"
        }
      ],
      "source": [
        "from google.colab import files\n",
        "files.download(\"Mental_Health.keras\")  # Change filename accordingly"
      ]
    }
  ],
  "metadata": {
    "colab": {
      "name": "Mental  Health",
      "provenance": []
    },
    "kaggle": {
      "accelerator": "none",
      "dataSources": [
        {
          "datasetId": 2782228,
          "sourceId": 4805127,
          "sourceType": "datasetVersion"
        }
      ],
      "dockerImageVersionId": 30918,
      "isGpuEnabled": false,
      "isInternetEnabled": false,
      "language": "python",
      "sourceType": "notebook"
    },
    "kernelspec": {
      "display_name": "Python 3",
      "language": "python",
      "name": "python3"
    },
    "language_info": {
      "codemirror_mode": {
        "name": "ipython",
        "version": 3
      },
      "file_extension": ".py",
      "mimetype": "text/x-python",
      "name": "python",
      "nbconvert_exporter": "python",
      "pygments_lexer": "ipython3",
      "version": "3.10.12"
    }
  },
  "nbformat": 4,
  "nbformat_minor": 0
}
